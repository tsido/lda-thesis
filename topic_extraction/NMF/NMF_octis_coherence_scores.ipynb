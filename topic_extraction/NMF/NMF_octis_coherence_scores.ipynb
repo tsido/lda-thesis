{
  "nbformat": 4,
  "nbformat_minor": 0,
  "metadata": {
    "colab": {
      "provenance": [],
      "authorship_tag": "ABX9TyNKEtpLcXHqz5eRHOvNLkJe",
      "include_colab_link": true
    },
    "kernelspec": {
      "name": "python3",
      "display_name": "Python 3"
    },
    "language_info": {
      "name": "python"
    }
  },
  "cells": [
    {
      "cell_type": "markdown",
      "metadata": {
        "id": "view-in-github",
        "colab_type": "text"
      },
      "source": [
        "<a href=\"https://colab.research.google.com/github/tsido/lda-thesis/blob/main/topic_extraction/NMF/NMF_octis_coherence_scores.ipynb\" target=\"_parent\"><img src=\"https://colab.research.google.com/assets/colab-badge.svg\" alt=\"Open In Colab\"/></a>"
      ]
    },
    {
      "cell_type": "markdown",
      "source": [
        "# Notebook for evaluation of NMF topic model\n",
        "\n"
      ],
      "metadata": {
        "id": "NizFJxoA2K3-"
      }
    },
    {
      "cell_type": "code",
      "execution_count": 1,
      "metadata": {
        "colab": {
          "base_uri": "https://localhost:8080/"
        },
        "id": "tO9ETseU2IJZ",
        "outputId": "3a8bde86-3a9b-4b20-9245-6716b29a24d6"
      },
      "outputs": [
        {
          "output_type": "stream",
          "name": "stdout",
          "text": [
            "--2023-12-11 12:28:09--  https://docs.google.com/uc?export=download&id=1JIWIP_Hvzu69bCDz4Dz1xgs6sXzQXzG-\n",
            "Resolving docs.google.com (docs.google.com)... 172.217.214.138, 172.217.214.101, 172.217.214.113, ...\n",
            "Connecting to docs.google.com (docs.google.com)|172.217.214.138|:443... connected.\n",
            "HTTP request sent, awaiting response... 303 See Other\n",
            "Location: https://doc-04-ao-docs.googleusercontent.com/docs/securesc/ha0ro937gcuc7l7deffksulhg5h7mbp1/p6u2u52nu22e1hfke6jelen5kej12r89/1702297650000/09640189477530773141/*/1JIWIP_Hvzu69bCDz4Dz1xgs6sXzQXzG-?e=download&uuid=e7dc134b-15d0-45b3-9a9a-74d8e40d7a6d [following]\n",
            "Warning: wildcards not supported in HTTP.\n",
            "--2023-12-11 12:28:37--  https://doc-04-ao-docs.googleusercontent.com/docs/securesc/ha0ro937gcuc7l7deffksulhg5h7mbp1/p6u2u52nu22e1hfke6jelen5kej12r89/1702297650000/09640189477530773141/*/1JIWIP_Hvzu69bCDz4Dz1xgs6sXzQXzG-?e=download&uuid=e7dc134b-15d0-45b3-9a9a-74d8e40d7a6d\n",
            "Resolving doc-04-ao-docs.googleusercontent.com (doc-04-ao-docs.googleusercontent.com)... 142.250.128.132, 2607:f8b0:4001:c32::84\n",
            "Connecting to doc-04-ao-docs.googleusercontent.com (doc-04-ao-docs.googleusercontent.com)|142.250.128.132|:443... connected.\n",
            "HTTP request sent, awaiting response... 200 OK\n",
            "Length: 31862266 (30M) [text/csv]\n",
            "Saving to: ‘data/enriched_data.csv’\n",
            "\n",
            "data/enriched_data. 100%[===================>]  30.39M   134MB/s    in 0.2s    \n",
            "\n",
            "2023-12-11 12:28:38 (134 MB/s) - ‘data/enriched_data.csv’ saved [31862266/31862266]\n",
            "\n"
          ]
        }
      ],
      "source": [
        "# Fetch the app store data from Google Drive\n",
        "!mkdir data\n",
        "!wget --no-check-certificate --output-document=data/enriched_data.csv 'https://docs.google.com/uc?export=download&id=1JIWIP_Hvzu69bCDz4Dz1xgs6sXzQXzG-'\n"
      ]
    },
    {
      "cell_type": "code",
      "source": [
        "# install Octis and other required libraries\n",
        "!pip install octis"
      ],
      "metadata": {
        "colab": {
          "base_uri": "https://localhost:8080/",
          "height": 1000
        },
        "id": "mrGfrHvR2UlJ",
        "outputId": "d6755eb6-442b-445b-9e74-f66f4200ca6f"
      },
      "execution_count": 2,
      "outputs": [
        {
          "output_type": "stream",
          "name": "stdout",
          "text": [
            "Collecting octis\n",
            "  Downloading octis-1.13.1-py2.py3-none-any.whl (130 kB)\n",
            "\u001b[2K     \u001b[90m━━━━━━━━━━━━━━━━━━━━━━━━━━━━━━━━━━━━━━━━\u001b[0m \u001b[32m131.0/131.0 kB\u001b[0m \u001b[31m1.2 MB/s\u001b[0m eta \u001b[36m0:00:00\u001b[0m\n",
            "\u001b[?25hCollecting gensim==4.2.0 (from octis)\n",
            "  Downloading gensim-4.2.0-cp310-cp310-manylinux_2_17_x86_64.manylinux2014_x86_64.whl (24.0 MB)\n",
            "\u001b[2K     \u001b[90m━━━━━━━━━━━━━━━━━━━━━━━━━━━━━━━━━━━━━━━━\u001b[0m \u001b[32m24.0/24.0 MB\u001b[0m \u001b[31m50.7 MB/s\u001b[0m eta \u001b[36m0:00:00\u001b[0m\n",
            "\u001b[?25hRequirement already satisfied: nltk in /usr/local/lib/python3.10/dist-packages (from octis) (3.8.1)\n",
            "Requirement already satisfied: pandas in /usr/local/lib/python3.10/dist-packages (from octis) (1.5.3)\n",
            "Requirement already satisfied: spacy in /usr/local/lib/python3.10/dist-packages (from octis) (3.6.1)\n",
            "Collecting scikit-learn==1.1.0 (from octis)\n",
            "  Downloading scikit_learn-1.1.0-cp310-cp310-manylinux_2_17_x86_64.manylinux2014_x86_64.whl (30.7 MB)\n",
            "\u001b[2K     \u001b[90m━━━━━━━━━━━━━━━━━━━━━━━━━━━━━━━━━━━━━━━━\u001b[0m \u001b[32m30.7/30.7 MB\u001b[0m \u001b[31m33.1 MB/s\u001b[0m eta \u001b[36m0:00:00\u001b[0m\n",
            "\u001b[?25hCollecting scikit-optimize>=0.8.1 (from octis)\n",
            "  Downloading scikit_optimize-0.9.0-py2.py3-none-any.whl (100 kB)\n",
            "\u001b[2K     \u001b[90m━━━━━━━━━━━━━━━━━━━━━━━━━━━━━━━━━━━━━━━━\u001b[0m \u001b[32m100.3/100.3 kB\u001b[0m \u001b[31m10.1 MB/s\u001b[0m eta \u001b[36m0:00:00\u001b[0m\n",
            "\u001b[?25hRequirement already satisfied: matplotlib in /usr/local/lib/python3.10/dist-packages (from octis) (3.7.1)\n",
            "Requirement already satisfied: torch in /usr/local/lib/python3.10/dist-packages (from octis) (2.1.0+cu118)\n",
            "Collecting numpy==1.23.0 (from octis)\n",
            "  Downloading numpy-1.23.0-cp310-cp310-manylinux_2_17_x86_64.manylinux2014_x86_64.whl (17.0 MB)\n",
            "\u001b[2K     \u001b[90m━━━━━━━━━━━━━━━━━━━━━━━━━━━━━━━━━━━━━━━━\u001b[0m \u001b[32m17.0/17.0 MB\u001b[0m \u001b[31m45.8 MB/s\u001b[0m eta \u001b[36m0:00:00\u001b[0m\n",
            "\u001b[?25hCollecting libsvm (from octis)\n",
            "  Downloading libsvm-3.23.0.4.tar.gz (170 kB)\n",
            "\u001b[2K     \u001b[90m━━━━━━━━━━━━━━━━━━━━━━━━━━━━━━━━━━━━━━━━\u001b[0m \u001b[32m170.6/170.6 kB\u001b[0m \u001b[31m13.9 MB/s\u001b[0m eta \u001b[36m0:00:00\u001b[0m\n",
            "\u001b[?25h  Preparing metadata (setup.py) ... \u001b[?25l\u001b[?25hdone\n",
            "Requirement already satisfied: flask in /usr/local/lib/python3.10/dist-packages (from octis) (2.2.5)\n",
            "Collecting sentence-transformers (from octis)\n",
            "  Downloading sentence-transformers-2.2.2.tar.gz (85 kB)\n",
            "\u001b[2K     \u001b[90m━━━━━━━━━━━━━━━━━━━━━━━━━━━━━━━━━━━━━━━━\u001b[0m \u001b[32m86.0/86.0 kB\u001b[0m \u001b[31m9.0 MB/s\u001b[0m eta \u001b[36m0:00:00\u001b[0m\n",
            "\u001b[?25h  Preparing metadata (setup.py) ... \u001b[?25l\u001b[?25hdone\n",
            "Requirement already satisfied: requests in /usr/local/lib/python3.10/dist-packages (from octis) (2.31.0)\n",
            "Collecting tomotopy (from octis)\n",
            "  Downloading tomotopy-0.12.5-cp310-cp310-manylinux_2_17_x86_64.manylinux2014_x86_64.whl (17.1 MB)\n",
            "\u001b[2K     \u001b[90m━━━━━━━━━━━━━━━━━━━━━━━━━━━━━━━━━━━━━━━━\u001b[0m \u001b[32m17.1/17.1 MB\u001b[0m \u001b[31m58.0 MB/s\u001b[0m eta \u001b[36m0:00:00\u001b[0m\n",
            "\u001b[?25hRequirement already satisfied: scipy>=0.18.1 in /usr/local/lib/python3.10/dist-packages (from gensim==4.2.0->octis) (1.11.4)\n",
            "Requirement already satisfied: smart-open>=1.8.1 in /usr/local/lib/python3.10/dist-packages (from gensim==4.2.0->octis) (6.4.0)\n",
            "Requirement already satisfied: joblib>=1.0.0 in /usr/local/lib/python3.10/dist-packages (from scikit-learn==1.1.0->octis) (1.3.2)\n",
            "Requirement already satisfied: threadpoolctl>=2.0.0 in /usr/local/lib/python3.10/dist-packages (from scikit-learn==1.1.0->octis) (3.2.0)\n",
            "Collecting pyaml>=16.9 (from scikit-optimize>=0.8.1->octis)\n",
            "  Downloading pyaml-23.9.7-py3-none-any.whl (23 kB)\n",
            "Requirement already satisfied: Werkzeug>=2.2.2 in /usr/local/lib/python3.10/dist-packages (from flask->octis) (3.0.1)\n",
            "Requirement already satisfied: Jinja2>=3.0 in /usr/local/lib/python3.10/dist-packages (from flask->octis) (3.1.2)\n",
            "Requirement already satisfied: itsdangerous>=2.0 in /usr/local/lib/python3.10/dist-packages (from flask->octis) (2.1.2)\n",
            "Requirement already satisfied: click>=8.0 in /usr/local/lib/python3.10/dist-packages (from flask->octis) (8.1.7)\n",
            "Requirement already satisfied: contourpy>=1.0.1 in /usr/local/lib/python3.10/dist-packages (from matplotlib->octis) (1.2.0)\n",
            "Requirement already satisfied: cycler>=0.10 in /usr/local/lib/python3.10/dist-packages (from matplotlib->octis) (0.12.1)\n",
            "Requirement already satisfied: fonttools>=4.22.0 in /usr/local/lib/python3.10/dist-packages (from matplotlib->octis) (4.45.1)\n",
            "Requirement already satisfied: kiwisolver>=1.0.1 in /usr/local/lib/python3.10/dist-packages (from matplotlib->octis) (1.4.5)\n",
            "Requirement already satisfied: packaging>=20.0 in /usr/local/lib/python3.10/dist-packages (from matplotlib->octis) (23.2)\n",
            "Requirement already satisfied: pillow>=6.2.0 in /usr/local/lib/python3.10/dist-packages (from matplotlib->octis) (9.4.0)\n",
            "Requirement already satisfied: pyparsing>=2.3.1 in /usr/local/lib/python3.10/dist-packages (from matplotlib->octis) (3.1.1)\n",
            "Requirement already satisfied: python-dateutil>=2.7 in /usr/local/lib/python3.10/dist-packages (from matplotlib->octis) (2.8.2)\n",
            "Requirement already satisfied: regex>=2021.8.3 in /usr/local/lib/python3.10/dist-packages (from nltk->octis) (2023.6.3)\n",
            "Requirement already satisfied: tqdm in /usr/local/lib/python3.10/dist-packages (from nltk->octis) (4.66.1)\n",
            "Requirement already satisfied: pytz>=2020.1 in /usr/local/lib/python3.10/dist-packages (from pandas->octis) (2023.3.post1)\n",
            "Requirement already satisfied: charset-normalizer<4,>=2 in /usr/local/lib/python3.10/dist-packages (from requests->octis) (3.3.2)\n",
            "Requirement already satisfied: idna<4,>=2.5 in /usr/local/lib/python3.10/dist-packages (from requests->octis) (3.6)\n",
            "Requirement already satisfied: urllib3<3,>=1.21.1 in /usr/local/lib/python3.10/dist-packages (from requests->octis) (2.0.7)\n",
            "Requirement already satisfied: certifi>=2017.4.17 in /usr/local/lib/python3.10/dist-packages (from requests->octis) (2023.11.17)\n",
            "Requirement already satisfied: transformers<5.0.0,>=4.6.0 in /usr/local/lib/python3.10/dist-packages (from sentence-transformers->octis) (4.35.2)\n",
            "Requirement already satisfied: torchvision in /usr/local/lib/python3.10/dist-packages (from sentence-transformers->octis) (0.16.0+cu118)\n",
            "Collecting sentencepiece (from sentence-transformers->octis)\n",
            "  Downloading sentencepiece-0.1.99-cp310-cp310-manylinux_2_17_x86_64.manylinux2014_x86_64.whl (1.3 MB)\n",
            "\u001b[2K     \u001b[90m━━━━━━━━━━━━━━━━━━━━━━━━━━━━━━━━━━━━━━━━\u001b[0m \u001b[32m1.3/1.3 MB\u001b[0m \u001b[31m67.5 MB/s\u001b[0m eta \u001b[36m0:00:00\u001b[0m\n",
            "\u001b[?25hRequirement already satisfied: huggingface-hub>=0.4.0 in /usr/local/lib/python3.10/dist-packages (from sentence-transformers->octis) (0.19.4)\n",
            "Requirement already satisfied: filelock in /usr/local/lib/python3.10/dist-packages (from torch->octis) (3.13.1)\n",
            "Requirement already satisfied: typing-extensions in /usr/local/lib/python3.10/dist-packages (from torch->octis) (4.5.0)\n",
            "Requirement already satisfied: sympy in /usr/local/lib/python3.10/dist-packages (from torch->octis) (1.12)\n",
            "Requirement already satisfied: networkx in /usr/local/lib/python3.10/dist-packages (from torch->octis) (3.2.1)\n",
            "Requirement already satisfied: fsspec in /usr/local/lib/python3.10/dist-packages (from torch->octis) (2023.6.0)\n",
            "Requirement already satisfied: triton==2.1.0 in /usr/local/lib/python3.10/dist-packages (from torch->octis) (2.1.0)\n",
            "Requirement already satisfied: spacy-legacy<3.1.0,>=3.0.11 in /usr/local/lib/python3.10/dist-packages (from spacy->octis) (3.0.12)\n",
            "Requirement already satisfied: spacy-loggers<2.0.0,>=1.0.0 in /usr/local/lib/python3.10/dist-packages (from spacy->octis) (1.0.5)\n",
            "Requirement already satisfied: murmurhash<1.1.0,>=0.28.0 in /usr/local/lib/python3.10/dist-packages (from spacy->octis) (1.0.10)\n",
            "Requirement already satisfied: cymem<2.1.0,>=2.0.2 in /usr/local/lib/python3.10/dist-packages (from spacy->octis) (2.0.8)\n",
            "Requirement already satisfied: preshed<3.1.0,>=3.0.2 in /usr/local/lib/python3.10/dist-packages (from spacy->octis) (3.0.9)\n",
            "Requirement already satisfied: thinc<8.2.0,>=8.1.8 in /usr/local/lib/python3.10/dist-packages (from spacy->octis) (8.1.12)\n",
            "Requirement already satisfied: wasabi<1.2.0,>=0.9.1 in /usr/local/lib/python3.10/dist-packages (from spacy->octis) (1.1.2)\n",
            "Requirement already satisfied: srsly<3.0.0,>=2.4.3 in /usr/local/lib/python3.10/dist-packages (from spacy->octis) (2.4.8)\n",
            "Requirement already satisfied: catalogue<2.1.0,>=2.0.6 in /usr/local/lib/python3.10/dist-packages (from spacy->octis) (2.0.10)\n",
            "Requirement already satisfied: typer<0.10.0,>=0.3.0 in /usr/local/lib/python3.10/dist-packages (from spacy->octis) (0.9.0)\n",
            "Requirement already satisfied: pathy>=0.10.0 in /usr/local/lib/python3.10/dist-packages (from spacy->octis) (0.10.3)\n",
            "Requirement already satisfied: pydantic!=1.8,!=1.8.1,<3.0.0,>=1.7.4 in /usr/local/lib/python3.10/dist-packages (from spacy->octis) (1.10.13)\n",
            "Requirement already satisfied: setuptools in /usr/local/lib/python3.10/dist-packages (from spacy->octis) (67.7.2)\n",
            "Requirement already satisfied: langcodes<4.0.0,>=3.2.0 in /usr/local/lib/python3.10/dist-packages (from spacy->octis) (3.3.0)\n",
            "Requirement already satisfied: pyyaml>=5.1 in /usr/local/lib/python3.10/dist-packages (from huggingface-hub>=0.4.0->sentence-transformers->octis) (6.0.1)\n",
            "Requirement already satisfied: MarkupSafe>=2.0 in /usr/local/lib/python3.10/dist-packages (from Jinja2>=3.0->flask->octis) (2.1.3)\n",
            "Requirement already satisfied: six>=1.5 in /usr/local/lib/python3.10/dist-packages (from python-dateutil>=2.7->matplotlib->octis) (1.16.0)\n",
            "Requirement already satisfied: blis<0.8.0,>=0.7.8 in /usr/local/lib/python3.10/dist-packages (from thinc<8.2.0,>=8.1.8->spacy->octis) (0.7.11)\n",
            "Requirement already satisfied: confection<1.0.0,>=0.0.1 in /usr/local/lib/python3.10/dist-packages (from thinc<8.2.0,>=8.1.8->spacy->octis) (0.1.4)\n",
            "Requirement already satisfied: tokenizers<0.19,>=0.14 in /usr/local/lib/python3.10/dist-packages (from transformers<5.0.0,>=4.6.0->sentence-transformers->octis) (0.15.0)\n",
            "Requirement already satisfied: safetensors>=0.3.1 in /usr/local/lib/python3.10/dist-packages (from transformers<5.0.0,>=4.6.0->sentence-transformers->octis) (0.4.1)\n",
            "Requirement already satisfied: mpmath>=0.19 in /usr/local/lib/python3.10/dist-packages (from sympy->torch->octis) (1.3.0)\n",
            "Building wheels for collected packages: libsvm, sentence-transformers\n",
            "  Building wheel for libsvm (setup.py) ... \u001b[?25l\u001b[?25hdone\n",
            "  Created wheel for libsvm: filename=libsvm-3.23.0.4-cp310-cp310-linux_x86_64.whl size=251407 sha256=a42b080ab1bd483723c603886d355d18723a8f89aa917dc840f099cbfcf394d3\n",
            "  Stored in directory: /root/.cache/pip/wheels/79/c7/19/a8c85928f8e629654b8e1adb3c8091f0bb77344d0ee9954a85\n",
            "  Building wheel for sentence-transformers (setup.py) ... \u001b[?25l\u001b[?25hdone\n",
            "  Created wheel for sentence-transformers: filename=sentence_transformers-2.2.2-py3-none-any.whl size=125923 sha256=eb207d6067219b33d7d62d0313beebbc37f76eca3cf5b3cbb45eb816948965a5\n",
            "  Stored in directory: /root/.cache/pip/wheels/62/f2/10/1e606fd5f02395388f74e7462910fe851042f97238cbbd902f\n",
            "Successfully built libsvm sentence-transformers\n",
            "Installing collected packages: sentencepiece, pyaml, numpy, libsvm, tomotopy, scikit-learn, gensim, scikit-optimize, sentence-transformers, octis\n",
            "  Attempting uninstall: numpy\n",
            "    Found existing installation: numpy 1.23.5\n",
            "    Uninstalling numpy-1.23.5:\n",
            "      Successfully uninstalled numpy-1.23.5\n",
            "  Attempting uninstall: scikit-learn\n",
            "    Found existing installation: scikit-learn 1.2.2\n",
            "    Uninstalling scikit-learn-1.2.2:\n",
            "      Successfully uninstalled scikit-learn-1.2.2\n",
            "  Attempting uninstall: gensim\n",
            "    Found existing installation: gensim 4.3.2\n",
            "    Uninstalling gensim-4.3.2:\n",
            "      Successfully uninstalled gensim-4.3.2\n",
            "\u001b[31mERROR: pip's dependency resolver does not currently take into account all the packages that are installed. This behaviour is the source of the following dependency conflicts.\n",
            "lida 0.0.10 requires fastapi, which is not installed.\n",
            "lida 0.0.10 requires kaleido, which is not installed.\n",
            "lida 0.0.10 requires python-multipart, which is not installed.\n",
            "lida 0.0.10 requires uvicorn, which is not installed.\n",
            "bigframes 0.15.0 requires scikit-learn>=1.2.2, but you have scikit-learn 1.1.0 which is incompatible.\n",
            "tensorflow 2.14.0 requires numpy>=1.23.5, but you have numpy 1.23.0 which is incompatible.\u001b[0m\u001b[31m\n",
            "\u001b[0mSuccessfully installed gensim-4.2.0 libsvm-3.23.0.4 numpy-1.23.0 octis-1.13.1 pyaml-23.9.7 scikit-learn-1.1.0 scikit-optimize-0.9.0 sentence-transformers-2.2.2 sentencepiece-0.1.99 tomotopy-0.12.5\n"
          ]
        },
        {
          "output_type": "display_data",
          "data": {
            "application/vnd.colab-display-data+json": {
              "pip_warning": {
                "packages": [
                  "numpy"
                ]
              }
            }
          },
          "metadata": {}
        }
      ]
    },
    {
      "cell_type": "code",
      "source": [
        "import pandas as pd\n",
        "\n",
        "from sklearn.decomposition import NMF\n",
        "from sklearn.feature_extraction.text import TfidfVectorizer\n",
        "\n",
        "from octis.optimization.optimizer import Optimizer\n",
        "from octis.models.NMF_scikit import NMF_scikit\n",
        "\n",
        "from octis.evaluation_metrics.coherence_metrics import Coherence\n"
      ],
      "metadata": {
        "id": "lrZP_P_9288P"
      },
      "execution_count": 9,
      "outputs": []
    },
    {
      "cell_type": "code",
      "source": [
        "# Run the NMF model\n",
        "# Final comparison done with 46 topics\n",
        "num_topics = 46\n",
        "\n",
        "# read in the document data\n",
        "df = pd.read_csv('data/enriched_data.csv')\n",
        "\n",
        "documents = df['PreprocessedDescription']\n",
        "\n",
        "vectorizer = TfidfVectorizer(\n",
        "    min_df=3,        #don't add terms that appear less than 3 of the descriptions to the vocabulary\n",
        "    max_features=2000, # limit to 2000 most frequent terms\n",
        "    ngram_range=(1, 1)\n",
        ")\n",
        "\n",
        "\n",
        "tfidf_vocabulary = vectorizer.fit_transform(documents)\n",
        "tfidf_word_id_map = vectorizer.get_feature_names_out()\n"
      ],
      "metadata": {
        "id": "U2SPSkug2c11"
      },
      "execution_count": 4,
      "outputs": []
    },
    {
      "cell_type": "code",
      "source": [
        "nmf = NMF(\n",
        "    random_state=1,\n",
        "    n_components=num_topics, # number of topics to generate\n",
        "    init='nndsvd',\n",
        "    solver='cd',\n",
        "    #init='nndsvda',\n",
        "    #solver='mu' # use multiplicative update solver as that is described in the theory\n",
        ").fit(tfidf_vocabulary)\n"
      ],
      "metadata": {
        "colab": {
          "base_uri": "https://localhost:8080/"
        },
        "id": "veWjWDXd3G62",
        "outputId": "fa9f9595-79cc-45f2-a68f-984f8b1c4c18"
      },
      "execution_count": 75,
      "outputs": [
        {
          "output_type": "stream",
          "name": "stderr",
          "text": [
            "/usr/local/lib/python3.10/dist-packages/sklearn/decomposition/_nmf.py:1692: ConvergenceWarning: Maximum number of iterations 200 reached. Increase it to improve convergence.\n",
            "  warnings.warn(\n"
          ]
        }
      ]
    },
    {
      "cell_type": "code",
      "source": [
        "# Getting a df with each topic by document\n",
        "H_doc_by_topic = nmf.transform(vectorizer.transform(documents))\n",
        "\n",
        "n_topic_words = 5\n",
        "\n",
        "topics = {}\n",
        "for topic_idx, topic in enumerate(nmf.components_):\n",
        "    t = (topic_idx)\n",
        "    topics[t] = ' '.join([tfidf_word_id_map[i] for i in topic.argsort()[:(-n_topic_words - 1): -1]])\n"
      ],
      "metadata": {
        "id": "d_hKF_bp3SPp"
      },
      "execution_count": 76,
      "outputs": []
    },
    {
      "cell_type": "code",
      "source": [
        "# get top 3 scoring topics and create a data frame that contains the topics and the original document text\n",
        "docweights = H_doc_by_topic\n",
        "\n",
        "topic_strings = []\n",
        "topic_probabilities = []\n",
        "n_top_topics = 3\n",
        "\n",
        "for weight in docweights:\n",
        "    top_topic_idx = weight.argsort()[::-1][:n_top_topics]\n",
        "    topic_strings.append([topics[i] for i in top_topic_idx])\n",
        "    topic_probabilities.append([weight[i] for i in top_topic_idx])\n",
        "\n",
        "topic_df = pd.concat([df['App_Name'], documents, pd.DataFrame(topic_strings), pd.DataFrame(topic_probabilities)], axis=1)\n",
        "topic_df.columns = ['AppName', 'TrimmedDescription', 'Topic_1', 'Topic_2', 'Topic_3', 'Topic_1_p', 'Topic_2_p', 'Topic_3_p']\n",
        "\n"
      ],
      "metadata": {
        "id": "PakSgwE83UfH"
      },
      "execution_count": 77,
      "outputs": []
    },
    {
      "cell_type": "code",
      "source": [
        "# convert topics and documents into something that Octis coherence counter understands\n",
        "from octis.evaluation_metrics.coherence_metrics import Coherence\n",
        "\n",
        "octis_topic_model = {}\n",
        "octis_topic_model['topics'] = [topics[t].split(' ') for t in topics]\n",
        "octis_topic_model['texts'] = [doc.split(' ') for doc in documents]\n",
        "\n",
        "nmpi = Coherence(texts=octis_topic_model['texts'],topk=n_topic_words, measure='c_npmi')\n",
        "print('Coherence: ' + str(nmpi.score(octis_topic_model)))\n",
        "\n",
        "\n",
        "# For     init='nndsvda', solver='mu'\n",
        "# topk=5  Coherence: 0.2516171796392429\n",
        "# topk=10 Coherence: 0.16116779285799177\n",
        "\n",
        "# For    init='nndsvd', solver='cd',\n",
        "# topk=5  Coherence: 0.27146724729511523\n",
        "# topk=10 Coherence: 0.16773117323704292\n"
      ],
      "metadata": {
        "colab": {
          "base_uri": "https://localhost:8080/"
        },
        "id": "K15Lb_n63W4i",
        "outputId": "5142f745-05e6-4f44-d272-39ab098645c0"
      },
      "execution_count": 78,
      "outputs": [
        {
          "output_type": "stream",
          "name": "stdout",
          "text": [
            "Coherence: 0.27146724729511523\n"
          ]
        }
      ]
    },
    {
      "cell_type": "code",
      "source": [
        "from octis.evaluation_metrics.diversity_metrics import TopicDiversity\n",
        "\n",
        "diversity = TopicDiversity(topk=n_topic_words)\n",
        "print('Diversity: ' + str(diversity.score(octis_topic_model)))\n",
        "\n",
        "# For     init='nndsvda', solver='mu'\n",
        "# topk=5 Diversity: 0.908695652173913\n",
        "# topk=10 Diversity: 0.8108695652173913\n",
        "\n",
        "# For    init='nndsvd', solver='cd',\n",
        "# topk=5 Diversity: 0.9347826086956522\n",
        "# topk=10 Diversity: 0.8217391304347826\n"
      ],
      "metadata": {
        "colab": {
          "base_uri": "https://localhost:8080/"
        },
        "id": "heJmeIJaZ-Kz",
        "outputId": "3d382236-5117-4dbe-f2b0-86f81c29c923"
      },
      "execution_count": 79,
      "outputs": [
        {
          "output_type": "stream",
          "name": "stdout",
          "text": [
            "Diversity: 0.9347826086956522\n"
          ]
        }
      ]
    },
    {
      "cell_type": "code",
      "source": [
        "topics\n",
        "\"\"\"\n",
        "Topics with CD:\n",
        "{0: 'game center best playing simple enjoy good played version games',\n",
        " 1: 'word words letters letter search vocabulary dictionary grid spelling list',\n",
        " 2: 'cards card deck suit pile hand rules memory game ace',\n",
        " 3: 'kids learning fun educational learn games puzzles skills preschool coloring',\n",
        " 4: 'subscription period account renewal charged gameclub current auto purchase subscriptions',\n",
        " 5: 'puzzles puzzle jigsaw pieces solve logic crossword solving picture free',\n",
        " 6: 'fish big games enjoy discover virtually promotion release leading library',\n",
        " 7: 'player board players pieces opponent single checkers tac tic toe',\n",
        " 8: 'space enemy ships alien ship arcade shoot missions weapons shooter',\n",
        " 9: 'car racing cars race tracks driving drive speed physics realistic',\n",
        " 10: 'iphone ipad touch ipod universal ios support retina devices version',\n",
        " 11: 'numbers number math brain correct time bingo addition memory training',\n",
        " 12: 'english spanish french german italian languages chinese portuguese russian language',\n",
        " 13: 'slots casino slot vegas win real money free machines coins',\n",
        " 14: 'tiles mahjong tile board remove matching match layouts pairs puzzle',\n",
        " 15: 'chess moves board games engine pieces piece opponent play improve',\n",
        " 16: 'solitaire spider klondike games freecell pyramid classic undo draw golf',\n",
        " 17: 'escape room objects solve download place need ahead free hidden',\n",
        " 18: 'levels level difficulty challenging complete challenge different easy hard stars',\n",
        " 19: 'ball balls bowling physics soccer goal pool tilt control football',\n",
        " 20: 'bubble bubbles pop shooter popping blast shoot match shooting color',\n",
        " 21: 'sudoku notes row grid column cell pencil grids difficulty number',\n",
        " 22: 'questions trivia quiz knowledge answer answers choice categories history test',\n",
        " 23: 'truck garbage trucks monster vehicles ice cream drive boat vehicle',\n",
        " 24: 'battle enemies heroes monsters fight rpg powerful strategy battles epic',\n",
        " 25: 'animals animal farm zoo sounds cute toddlers funny sheep wild',\n",
        " 26: 'blocks color block match coloring puzzle colors clear lines board',\n",
        " 27: 'dice roll rolls rolling die board backgammon und rules shake',\n",
        " 28: 'fun great addictive graphics music gameplay sound simple effects easy',\n",
        " 29: 'poker texas chips hold video hand tournaments table hands casino',\n",
        " 30: 'zombies zombie weapons undead survive guns survival gun shooting kill',\n",
        " 31: 'baby dress pet little cute fashion hair pets like help',\n",
        " 32: 'tap screen button left right fly red bird tapping finger',\n",
        " 33: 'mode modes challenge time normal arcade multiplayer classic single survival',\n",
        " 34: 'children child learning learn parents educational skills scene apps sounds',\n",
        " 35: 'play friends online players multiplayer opponents chat facebook challenge family',\n",
        " 36: 'hidden adventure object objects story mystery cradle island city secrets',\n",
        " 37: 'score points high scores bonus time possible beat highest try',\n",
        " 38: 'new unlock brand experience create challenges you gameplay characters games',\n",
        " 39: 'christmas santa presents holiday season time edition family year gifts',\n",
        " 40: 'app free store purchases apps support thank best purchase review',\n",
        " 41: 'tabtale privacy policy app limited certain users sites device parents',\n",
        " 42: 'guess friends movie guessing football test quiz logo hints fun',\n",
        " 43: 'jump coins run obstacles collect avoid coin jumping running ninja',\n",
        " 44: 'world real best city players compete countries ranking time country',\n",
        " 45: 'para que cartas los del com juego las online les'}\n",
        " \"\"\"\n",
        "\n",
        "\n",
        "\"\"\" topics with mu solver:\n",
        "{0: 'game center simple best playing enjoy support good leaderboards play',\n",
        " 1: 'word words letters letter search vocabulary dictionary grid spelling list',\n",
        " 2: 'solitaire cards card klondike spider suit deck freecell pyramid games',\n",
        " 3: 'kids learning fun educational games learn app skills preschool puzzles',\n",
        " 4: 'subscription period account renewal gameclub charged current auto purchase subscriptions',\n",
        " 5: 'puzzles puzzle jigsaw pieces solve logic crossword solving picture free',\n",
        " 6: 'fish big games discover enjoy virtually promotion leading release sign',\n",
        " 7: 'play player players online multiplayer friends opponents opponent single board',\n",
        " 8: 'battle enemies enemy war weapons fight heroes space strategy combat',\n",
        " 9: 'car racing cars race tracks driving drive speed physics realistic',\n",
        " 10: 'iphone ipad touch ipod universal support ios retina app version',\n",
        " 11: 'english spanish french german languages italian chinese portuguese language russian',\n",
        " 12: 'tiles mahjong tile board remove layouts matching solitaire match pairs',\n",
        " 13: 'slots casino slot vegas win real free money machines coins',\n",
        " 14: 'numbers number math brain color colors correct time bingo grid',\n",
        " 15: 'chess moves board pieces games piece engine opponent play human',\n",
        " 16: 'guess friends facebook share challenge test family twitter fun brain',\n",
        " 17: 'escape room objects solve download place need ahead free use',\n",
        " 18: 'levels level difficulty challenging complete challenge different easy hard stars',\n",
        " 19: 'ball balls bowling physics soccer goal control pool tilt football',\n",
        " 20: 'bubble bubbles pop shooter popping blast shoot color shooting match',\n",
        " 21: 'sudoku notes grid column row cell pencil difficulty grids unlimited',\n",
        " 22: 'questions trivia quiz knowledge answer answers choice categories history multiple',\n",
        " 23: 'truck garbage trucks monster vehicles ice cream drive boat vehicle',\n",
        " 24: 'adventure story island characters mysterious dragon atlantis explore villagers dracula',\n",
        " 25: 'animals animal farm zoo sounds cute toddlers funny sheep wild',\n",
        " 26: 'blocks block color match puzzle clear colors coloring board lines',\n",
        " 27: 'dice roll rolls board rolling backgammon games shake classic rules',\n",
        " 28: 'fun great graphics music addictive gameplay sound easy effects play',\n",
        " 29: 'poker texas chips hold video hand cards tournaments table hands',\n",
        " 30: 'zombies zombie weapons undead survive shoot shooting guns survival gun',\n",
        " 31: 'tac tic toe player row line pieces board grid classic',\n",
        " 32: 'tap screen button left right fly red bird finger play',\n",
        " 33: 'mode modes challenge time arcade normal multiplayer classic survival single',\n",
        " 34: 'children child learning parents learn educational skills apps scene app',\n",
        " 35: 'para que cartas com del los juego las online les',\n",
        " 36: 'hidden object objects cradle city rome trails mystery golden match',\n",
        " 37: 'score points high scores bonus possible highest time beat earn',\n",
        " 38: 'new games unlock create best you brand experience like way',\n",
        " 39: 'christmas santa presents holiday time season edition year pieces family',\n",
        " 40: 'app free real money purchases like use want device settings',\n",
        " 41: 'tabtale privacy app policy limited certain users contact purposes parents',\n",
        " 42: 'und die der med des app les och man quiz',\n",
        " 43: 'jump run coins obstacles collect avoid coin running jumping ninja',\n",
        " 44: 'world compete real best countries ranking players friends country explore',\n",
        " 45: 'baby dress pet little hair fashion cute pets care cat'}\n",
        " \"\"\"\n"
      ],
      "metadata": {
        "colab": {
          "base_uri": "https://localhost:8080/"
        },
        "id": "uiopj-0tYp7j",
        "outputId": "6c233182-77a8-4df7-bd5f-e79a7561f279"
      },
      "execution_count": 62,
      "outputs": [
        {
          "output_type": "execute_result",
          "data": {
            "text/plain": [
              "{0: 'game center best playing simple enjoy good played version games',\n",
              " 1: 'word words letters letter search vocabulary dictionary grid spelling list',\n",
              " 2: 'cards card deck suit pile hand rules memory game ace',\n",
              " 3: 'kids learning fun educational learn games puzzles skills preschool coloring',\n",
              " 4: 'subscription period account renewal charged gameclub current auto purchase subscriptions',\n",
              " 5: 'puzzles puzzle jigsaw pieces solve logic crossword solving picture free',\n",
              " 6: 'fish big games enjoy discover virtually promotion release leading library',\n",
              " 7: 'player board players pieces opponent single checkers tac tic toe',\n",
              " 8: 'space enemy ships alien ship arcade shoot missions weapons shooter',\n",
              " 9: 'car racing cars race tracks driving drive speed physics realistic',\n",
              " 10: 'iphone ipad touch ipod universal ios support retina devices version',\n",
              " 11: 'numbers number math brain correct time bingo addition memory training',\n",
              " 12: 'english spanish french german italian languages chinese portuguese russian language',\n",
              " 13: 'slots casino slot vegas win real money free machines coins',\n",
              " 14: 'tiles mahjong tile board remove matching match layouts pairs puzzle',\n",
              " 15: 'chess moves board games engine pieces piece opponent play improve',\n",
              " 16: 'solitaire spider klondike games freecell pyramid classic undo draw golf',\n",
              " 17: 'escape room objects solve download place need ahead free hidden',\n",
              " 18: 'levels level difficulty challenging complete challenge different easy hard stars',\n",
              " 19: 'ball balls bowling physics soccer goal pool tilt control football',\n",
              " 20: 'bubble bubbles pop shooter popping blast shoot match shooting color',\n",
              " 21: 'sudoku notes row grid column cell pencil grids difficulty number',\n",
              " 22: 'questions trivia quiz knowledge answer answers choice categories history test',\n",
              " 23: 'truck garbage trucks monster vehicles ice cream drive boat vehicle',\n",
              " 24: 'battle enemies heroes monsters fight rpg powerful strategy battles epic',\n",
              " 25: 'animals animal farm zoo sounds cute toddlers funny sheep wild',\n",
              " 26: 'blocks color block match coloring puzzle colors clear lines board',\n",
              " 27: 'dice roll rolls rolling die board backgammon und rules shake',\n",
              " 28: 'fun great addictive graphics music gameplay sound simple effects easy',\n",
              " 29: 'poker texas chips hold video hand tournaments table hands casino',\n",
              " 30: 'zombies zombie weapons undead survive guns survival gun shooting kill',\n",
              " 31: 'baby dress pet little cute fashion hair pets like help',\n",
              " 32: 'tap screen button left right fly red bird tapping finger',\n",
              " 33: 'mode modes challenge time normal arcade multiplayer classic single survival',\n",
              " 34: 'children child learning learn parents educational skills scene apps sounds',\n",
              " 35: 'play friends online players multiplayer opponents chat facebook challenge family',\n",
              " 36: 'hidden adventure object objects story mystery cradle island city secrets',\n",
              " 37: 'score points high scores bonus time possible beat highest try',\n",
              " 38: 'new unlock brand experience create challenges you gameplay characters games',\n",
              " 39: 'christmas santa presents holiday season time edition family year gifts',\n",
              " 40: 'app free store purchases apps support thank best purchase review',\n",
              " 41: 'tabtale privacy policy app limited certain users sites device parents',\n",
              " 42: 'guess friends movie guessing football test quiz logo hints fun',\n",
              " 43: 'jump coins run obstacles collect avoid coin jumping running ninja',\n",
              " 44: 'world real best city players compete countries ranking time country',\n",
              " 45: 'para que cartas los del com juego las online les'}"
            ]
          },
          "metadata": {},
          "execution_count": 62
        }
      ]
    }
  ]
}